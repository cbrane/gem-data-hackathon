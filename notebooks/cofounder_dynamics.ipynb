{
 "cells": [
  {
   "cell_type": "markdown",
   "metadata": {},
   "source": [
    "# GEM Data Hackathon: Co-founder Dynamics Analysis\n",
    "\n",
    "This notebook implements Section 2 of our analysis plan: Co-founder Dynamics & Team Composition Analysis.\n",
    "\n",
    "## Objectives\n",
    "- Understand team composition patterns across different entrepreneur types\n",
    "- Identify relationship between team size and business outcomes\n",
    "- Compare solo vs. team ventures' performance\n",
    "- Determine how co-founding relationships influence business success and strategy"
   ]
  },
  {
   "cell_type": "markdown",
   "metadata": {},
   "source": [
    "## Setup and Data Loading"
   ]
  },
  {
   "cell_type": "code",
   "execution_count": null,
   "metadata": {},
   "outputs": [],
   "source": [
    "# Import necessary libraries\n",
    "import pandas as pd\n",
    "import numpy as np\n",
    "import matplotlib.pyplot as plt\n",
    "import seaborn as sns\n",
    "from scipy import stats\n",
    "\n",
    "# Set plot styling\n",
    "plt.style.use('seaborn-v0_8-whitegrid')\n",
    "sns.set_palette('viridis')\n",
    "plt.rcParams['figure.figsize'] = (10, 6)\n",
    "plt.rcParams['font.size'] = 12"
   ]
  },
  {
   "cell_type": "code",
   "execution_count": null,
   "metadata": {},
   "outputs": [],
   "source": [
    "# Load the GEM data\n",
    "gem_data = pd.read_csv('../data/Hackathon_GEM_Data_FULL.csv')\n",
    "\n",
    "# Display basic information about the dataset\n",
    "print(f\"Dataset shape: {gem_data.shape}\")\n",
    "gem_data.head()"
   ]
  },
  {
   "cell_type": "markdown",
   "metadata": {},
   "source": [
    "## Data Preparation for Co-founder Analysis\n",
    "\n",
    "Let's first identify and examine the variables related to team composition and co-founding."
   ]
  },
  {
   "cell_type": "code",
   "execution_count": null,
   "metadata": {},
   "outputs": [],
   "source": [
    "# Check variable names to identify team/ownership variables\n",
    "print(\"Columns in the dataset:\")\n",
    "print(gem_data.columns.tolist())"
   ]
  },
  {
   "cell_type": "code",
   "execution_count": null,
   "metadata": {},
   "outputs": [],
   "source": [
    "# Examine the ownership variables\n",
    "ownership_vars = ['new_entrepreneur_owners', 'established_entrepreneur_owners']\n",
    "\n",
    "# Basic statistics of ownership variables\n",
    "ownership_stats = gem_data[ownership_vars].describe()\n",
    "ownership_stats"
   ]
  },
  {
   "cell_type": "code",
   "execution_count": null,
   "metadata": {},
   "outputs": [],
   "source": [
    "# Check for missing values in the ownership variables\n",
    "missing_ownership = pd.DataFrame({\n",
    "    'Missing Values': gem_data[ownership_vars].isnull().sum(),\n",
    "    'Percentage': 100 * gem_data[ownership_vars].isnull().sum() / len(gem_data)\n",
    "})\n",
    "missing_ownership"
   ]
  },
  {
   "cell_type": "code",
   "execution_count": null,
   "metadata": {},
   "outputs": [],
   "source": [
    "# Create filtered datasets for new and established entrepreneurs with valid ownership data\n",
    "new_entrepreneurs = gem_data[(gem_data['new_entrepreneur'] == 'Yes') & \n",
    "                              gem_data['new_entrepreneur_owners'].notnull()].copy()\n",
    "established_entrepreneurs = gem_data[(gem_data['established_entrepreneur'] == 'Yes') & \n",
    "                                      gem_data['established_entrepreneur_owners'].notnull()].copy()\n",
    "\n",
    "print(f\"New entrepreneurs with valid ownership data: {len(new_entrepreneurs)} ({100*len(new_entrepreneurs)/len(gem_data):.1f}%)\")\n",
    "print(f\"Established entrepreneurs with valid ownership data: {len(established_entrepreneurs)} ({100*len(established_entrepreneurs)/len(gem_data):.1f}%)\")"
   ]
  },
  {
   "cell_type": "markdown",
   "metadata": {},
   "source": [
    "## 1. Team Size Distribution Analysis\n",
    "\n",
    "Let's analyze the distribution of team sizes across entrepreneur types, weighted appropriately."
   ]
  },
  {
   "cell_type": "code",
   "execution_count": null,
   "metadata": {},
   "outputs": [],
   "source": [
    "# Create team size categories for new entrepreneurs\n",
    "new_entrepreneurs['team_size_category'] = pd.cut(\n",
    "    new_entrepreneurs['new_entrepreneur_owners'],\n",
    "    bins=[0, 1, 2, 5, float('inf')],\n",
    "    labels=['Solo', 'Duo', 'Small Team (3-5)', 'Large Team (6+)']\n",
    ")\n",
    "\n",
    "# Create team size categories for established entrepreneurs\n",
    "established_entrepreneurs['team_size_category'] = pd.cut(\n",
    "    established_entrepreneurs['established_entrepreneur_owners'],\n",
    "    bins=[0, 1, 2, 5, float('inf')],\n",
    "    labels=['Solo', 'Duo', 'Small Team (3-5)', 'Large Team (6+)']\n",
    ")"
   ]
  },
  {
   "cell_type": "code",
   "execution_count": null,
   "metadata": {},
   "outputs": [],
   "source": [
    "# Calculate weighted distribution of team sizes for new entrepreneurs\n",
    "new_team_dist = new_entrepreneurs.groupby('team_size_category')['weight'].sum() / new_entrepreneurs['weight'].sum() * 100\n",
    "new_team_dist = new_team_dist.reset_index(name='Percentage')\n",
    "new_team_dist['Entrepreneur Type'] = 'New'\n",
    "\n",
    "# Calculate weighted distribution of team sizes for established entrepreneurs\n",
    "estab_team_dist = established_entrepreneurs.groupby('team_size_category')['weight'].sum() / established_entrepreneurs['weight'].sum() * 100\n",
    "estab_team_dist = estab_team_dist.reset_index(name='Percentage')\n",
    "estab_team_dist['Entrepreneur Type'] = 'Established'\n",
    "\n",
    "# Combine the distributions\n",
    "team_dist_combined = pd.concat([new_team_dist, estab_team_dist])\n",
    "team_dist_combined"
   ]
  },
  {
   "cell_type": "code",
   "execution_count": null,
   "metadata": {},
   "outputs": [],
   "source": [
    "# Visualize team size distribution for both entrepreneur types\n",
    "plt.figure(figsize=(12, 7))\n",
    "sns.barplot(x='team_size_category', y='Percentage', hue='Entrepreneur Type', data=team_dist_combined)\n",
    "plt.title('Team Size Distribution: New vs. Established Entrepreneurs')\n",
    "plt.xlabel('Team Size Category')\n",
    "plt.ylabel('Percentage (%)')\n",
    "plt.xticks(rotation=0)\n",
    "plt.legend(title='Entrepreneur Type')\n",
    "plt.tight_layout()\n",
    "plt.show()"
   ]
  },
  {
   "cell_type": "code",
   "execution_count": null,
   "metadata": {},
   "outputs": [],
   "source": [
    "# Analyze the raw team size numbers (not categorized)\n",
    "team_size_stats = pd.DataFrame({\n",
    "    'New': new_entrepreneurs['new_entrepreneur_owners'].describe(),\n",
    "    'Established': established_entrepreneurs['established_entrepreneur_owners'].describe()\n",
    "})\n",
    "team_size_stats"
   ]
  },
  {
   "cell_type": "code",
   "execution_count": null,
   "metadata": {},
   "outputs": [],
   "source": [
    "# Visualize the distribution of raw team sizes\n",
    "plt.figure(figsize=(12, 8))\n",
    "\n",
    "plt.subplot(2, 1, 1)\n",
    "sns.histplot(new_entrepreneurs['new_entrepreneur_owners'], \n",
    "             weights=new_entrepreneurs['weight'], \n",
    "             bins=range(1, 11), \n",
    "             kde=False)\n",
    "plt.title('Team Size Distribution for New Entrepreneurs')\n",
    "plt.xlabel('Number of Owners')\n",
    "plt.ylabel('Weighted Frequency')\n",
    "plt.xticks(range(1, 11))\n",
    "plt.xlim(0.5, 10.5)\n",
    "\n",
    "plt.subplot(2, 1, 2)\n",
    "sns.histplot(established_entrepreneurs['established_entrepreneur_owners'], \n",
    "             weights=established_entrepreneurs['weight'], \n",
    "             bins=range(1, 11), \n",
    "             kde=False)\n",
    "plt.title('Team Size Distribution for Established Entrepreneurs')\n",
    "plt.xlabel('Number of Owners')\n",
    "plt.ylabel('Weighted Frequency')\n",
    "plt.xticks(range(1, 11))\n",
    "plt.xlim(0.5, 10.5)\n",
    "\n",
    "plt.tight_layout()\n",
    "plt.show()"
   ]
  },
  {
   "cell_type": "markdown",
   "metadata": {},
   "source": [
    "## 2. Team Size by Industry\n",
    "\n",
    "Let's examine if team sizes vary across different industries."
   ]
  },
  {
   "cell_type": "code",
   "execution_count": null,
   "metadata": {},
   "outputs": [],
   "source": [
    "# Identify new entrepreneurs with valid industry data\n",
    "new_ent_with_industry = new_entrepreneurs.dropna(subset=['new_entrepreneur_industry']).copy()\n",
    "print(f\"New entrepreneurs with valid industry data: {len(new_ent_with_industry)}\")"
   ]
  },
  {
   "cell_type": "code",
   "execution_count": null,
   "metadata": {},
   "outputs": [],
   "source": [
    "# Calculate average team size by industry for new entrepreneurs\n",
    "team_size_by_industry = new_ent_with_industry.groupby('new_entrepreneur_industry').apply(\n",
    "    lambda x: pd.Series({\n",
    "        'Average Team Size': np.average(x['new_entrepreneur_owners'], weights=x['weight']),\n",
    "        'Median Team Size': np.median(x['new_entrepreneur_owners']),\n",
    "        'Count': len(x),\n",
    "        'Weighted Count': x['weight'].sum()\n",
    "    })\n",
    ")\n",
    "\n",
    "# Sort by average team size\n",
    "team_size_by_industry = team_size_by_industry.sort_values('Average Team Size', ascending=False)\n",
    "team_size_by_industry"
   ]
  },
  {
   "cell_type": "code",
   "execution_count": null,
   "metadata": {},
   "outputs": [],
   "source": [
    "# Visualize average team size by industry\n",
    "plt.figure(figsize=(14, 8))\n",
    "ax = sns.barplot(x=team_size_by_industry.index, y='Average Team Size', data=team_size_by_industry)\n",
    "plt.title('Average Team Size by Industry (New Entrepreneurs)')\n",
    "plt.xlabel('Industry')\n",
    "plt.ylabel('Average Number of Owners')\n",
    "plt.xticks(rotation=45, ha='right')\n",
    "plt.axhline(y=new_ent_with_industry['new_entrepreneur_owners'].mean(), color='r', linestyle='--', \n",
    "           label=f\"Overall Average: {new_ent_with_industry['new_entrepreneur_owners'].mean():.2f}\")\n",
    "plt.legend()\n",
    "plt.tight_layout()\n",
    "plt.show()"
   ]
  },
  {
   "cell_type": "code",
   "execution_count": null,
   "metadata": {},
   "outputs": [],
   "source": [
    "# Calculate team size distribution by industry for new entrepreneurs\n",
    "team_dist_by_industry = pd.crosstab(\n",
    "    index=new_ent_with_industry['new_entrepreneur_industry'],\n",
    "    columns=new_ent_with_industry['team_size_category'],\n",
    "    values=new_ent_with_industry['weight'],\n",
    "    aggfunc='sum',\n",
    "    normalize='index'\n",
    ") * 100\n",
    "\n",
    "team_dist_by_industry"
   ]
  },
  {
   "cell_type": "code",
   "execution_count": null,
   "metadata": {},
   "outputs": [],
   "source": [
    "# Visualize team size distribution by industry\n",
    "plt.figure(figsize=(15, 10))\n",
    "team_dist_by_industry.plot(kind='bar', stacked=True)\n",
    "plt.title('Team Size Distribution by Industry (New Entrepreneurs)')\n",
    "plt.xlabel('Industry')\n",
    "plt.ylabel('Percentage (%)')\n",
    "plt.xticks(rotation=45, ha='right')\n",
    "plt.legend(title='Team Size')\n",
    "plt.tight_layout()\n",
    "plt.show()"
   ]
  },
  {
   "cell_type": "markdown",
   "metadata": {},
   "source": [
    "## 3. Team Size and Business Performance\n",
    "\n",
    "Let's examine the relationship between team size and various business performance metrics, focusing on:\n",
    "- Current employees\n",
    "- Projected job growth\n",
    "- Export activity / market reach"
   ]
  },
  {
   "cell_type": "code",
   "execution_count": null,
   "metadata": {},
   "outputs": [],
   "source": [
    "# Check for available performance metrics\n",
    "performance_vars = ['new_entrepreneur_employees', 'new_entrepreneur_new_jobs', 'new_entrepreneur_external_sales']\n",
    "\n",
    "# Check availability of performance metrics\n",
    "missing_performance = pd.DataFrame({\n",
    "    'Missing Values': new_entrepreneurs[performance_vars].isnull().sum(),\n",
    "    'Percentage': 100 * new_entrepreneurs[performance_vars].isnull().sum() / len(new_entrepreneurs)\n",
    "})\n",
    "missing_performance"
   ]
  },
  {
   "cell_type": "code",
   "execution_count": null,
   "metadata": {},
   "outputs": [],
   "source": [
    "# Filter to new entrepreneurs with valid employee data\n",
    "new_ent_with_employees = new_entrepreneurs.dropna(subset=['new_entrepreneur_employees']).copy()\n",
    "print(f\"New entrepreneurs with valid employee data: {len(new_ent_with_employees)}\")"
   ]
  },
  {
   "cell_type": "code",
   "execution_count": null,
   "metadata": {},
   "outputs": [],
   "source": [
    "# Analyze current employment by team size category\n",
    "employment_by_team_size = new_ent_with_employees.groupby('team_size_category').apply(\n",
    "    lambda x: pd.Series({\n",
    "        'Average Employees': np.average(x['new_entrepreneur_employees'], weights=x['weight']),\n",
    "        'Median Employees': np.median(x['new_entrepreneur_employees']),\n",
    "        'Count': len(x),\n",
    "        'Weighted Count': x['weight'].sum()\n",
    "    })\n",
    ")\n",
    "employment_by_team_size"
   ]
  },
  {
   "cell_type": "code",
   "execution_count": null,
   "metadata": {},
   "outputs": [],
   "source": [
    "# Visualize current employment by team size\n",
    "plt.figure(figsize=(12, 6))\n",
    "sns.barplot(x=employment_by_team_size.index, y='Average Employees', data=employment_by_team_size)\n",
    "plt.title('Average Number of Employees by Team Size (New Entrepreneurs)')\n",
    "plt.xlabel('Team Size Category')\n",
    "plt.ylabel('Average Number of Employees')\n",
    "plt.xticks(rotation=0)\n",
    "plt.tight_layout()\n",
    "plt.show()"
   ]
  },
  {
   "cell_type": "code",
   "execution_count": null,
   "metadata": {},
   "outputs": [],
   "source": [
    "# Filter to new entrepreneurs with valid job growth projections\n",
    "new_ent_with_growth = new_entrepreneurs.dropna(subset=['new_entrepreneur_new_jobs']).copy()\n",
    "print(f\"New entrepreneurs with valid job growth data: {len(new_ent_with_growth)}\")"
   ]
  },
  {
   "cell_type": "code",
   "execution_count": null,
   "metadata": {},
   "outputs": [],
   "source": [
    "# Analyze projected job growth by team size category\n",
    "job_growth_by_team_size = new_ent_with_growth.groupby('team_size_category').apply(\n",
    "    lambda x: pd.Series({\n",
    "        'Average Projected Jobs': np.average(x['new_entrepreneur_new_jobs'], weights=x['weight']),\n",
    "        'Median Projected Jobs': np.median(x['new_entrepreneur_new_jobs']),\n",
    "        'Count': len(x),\n",
    "        'Weighted Count': x['weight'].sum()\n",
    "    })\n",
    ")\n",
    "job_growth_by_team_size"
   ]
  },
  {
   "cell_type": "code",
   "execution_count": null,
   "metadata": {},
   "outputs": [],
   "source": [
    "# Visualize projected job growth by team size\n",
    "plt.figure(figsize=(12, 6))\n",
    "sns.barplot(x=job_growth_by_team_size.index, y='Average Projected Jobs', data=job_growth_by_team_size)\n",
    "plt.title('Average Projected Job Growth (5 Years) by Team Size (New Entrepreneurs)')\n",
    "plt.xlabel('Team Size Category')\n",
    "plt.ylabel('Average Projected New Jobs')\n",
    "plt.xticks(rotation=0)\n",
    "plt.tight_layout()\n",
    "plt.show()"
   ]
  },
  {
   "cell_type": "code",
   "execution_count": null,
   "metadata": {},
   "outputs": [],
   "source": [
    "# Filter to new entrepreneurs with valid external sales data\n",
    "new_ent_with_sales = new_entrepreneurs.dropna(subset=['new_entrepreneur_external_sales']).copy()\n",
    "print(f\"New entrepreneurs with valid external sales data: {len(new_ent_with_sales)}\")"
   ]
  },
  {
   "cell_type": "code",
   "execution_count": null,
   "metadata": {},
   "outputs": [],
   "source": [
    "# Analyze market reach (external sales) by team size\n",
    "market_reach_by_team = pd.crosstab(\n",
    "    index=new_ent_with_sales['team_size_category'],\n",
    "    columns=new_ent_with_sales['new_entrepreneur_external_sales'],\n",
    "    values=new_ent_with_sales['weight'],\n",
    "    aggfunc='sum',\n",
    "    normalize='index'\n",
    ") * 100\n",
    "\n",
    "market_reach_by_team"
   ]
  },
  {
   "cell_type": "code",
   "execution_count": null,
   "metadata": {},
   "outputs": [],
   "source": [
    "# Visualize market reach by team size\n",
    "plt.figure(figsize=(14, 8))\n",
    "market_reach_by_team.plot(kind='bar', stacked=True)\n",
    "plt.title('External Market Reach by Team Size (New Entrepreneurs)')\n",
    "plt.xlabel('Team Size Category')\n",
    "plt.ylabel('Percentage (%)')\n",
    "plt.xticks(rotation=0)\n",
    "plt.legend(title='External Sales Percentage')\n",
    "plt.tight_layout()\n",
    "plt.show()"
   ]
  },
  {
   "cell_type": "markdown",
   "metadata": {},
   "source": [
    "## 4. Team Size and Innovation\n",
    "\n",
    "Let's examine the relationship between team size and innovation in products/services."
   ]
  },
  {
   "cell_type": "code",
   "execution_count": null,
   "metadata": {},
   "outputs": [],
   "source": [
    "# Check for available innovation metrics\n",
    "innovation_vars = ['new_entrepreneur_innovation', 'new_entrepreneur_local_innovation']\n",
    "\n",
    "# Check availability of innovation metrics\n",
    "missing_innovation = pd.DataFrame({\n",
    "    'Missing Values': new_entrepreneurs[innovation_vars].isnull().sum(),\n",
    "    'Percentage': 100 * new_entrepreneurs[innovation_vars].isnull().sum() / len(new_entrepreneurs)\n",
    "})\n",
    "missing_innovation"
   ]
  },
  {
   "cell_type": "code",
   "execution_count": null,
   "metadata": {},
   "outputs": [],
   "source": [
    "# Filter to entrepreneurs with valid innovation data\n",
    "new_ent_with_innovation = new_entrepreneurs.dropna(subset=['new_entrepreneur_innovation']).copy()\n",
    "print(f\"New entrepreneurs with valid innovation data: {len(new_ent_with_innovation)}\")"
   ]
  },
  {
   "cell_type": "code",
   "execution_count": null,
   "metadata": {},
   "outputs": [],
   "source": [
    "# Analyze innovation by team size\n",
    "innovation_by_team = pd.crosstab(\n",
    "    index=new_ent_with_innovation['team_size_category'],\n",
    "    columns=new_ent_with_innovation['new_entrepreneur_innovation'],\n",
    "    values=new_ent_with_innovation['weight'],\n",
    "    aggfunc='sum',\n",
    "    normalize='index'\n",
    ") * 100\n",
    "\n",
    "innovation_by_team"
   ]
  },
  {
   "cell_type": "code",
   "execution_count": null,
   "metadata": {},
   "outputs": [],
   "source": [
    "# Visualize innovation by team size\n",
    "plt.figure(figsize=(12, 6))\n",
    "# Check if 'Yes' column exists in the data\n",
    "if 'Yes' in innovation_by_team.columns:\n",
    "    sns.barplot(x=innovation_by_team.index, y=innovation_by_team['Yes'])\n",
    "    plt.title('Innovation Rate by Team Size (New Entrepreneurs)')\n",
    "    plt.xlabel('Team Size Category')\n",
    "    plt.ylabel('Percentage with Innovative Products/Services (%)')\n",
    "    plt.xticks(rotation=0)\n",
    "    plt.tight_layout()\n",
    "    plt.show()"
   ]
  },
  {
   "cell_type": "code",
   "execution_count": null,
   "metadata": {},
   "outputs": [],
   "source": [
    "# Check for local innovation data availability\n",
    "local_innovation_count = new_entrepreneurs['new_entrepreneur_local_innovation'].count()\n",
    "print(f\"Entrepreneurs with local innovation data: {local_innovation_count} ({100*local_innovation_count/len(new_entrepreneurs):.1f}%)\")"
   ]
  },
  {
   "cell_type": "code",
   "execution_count": null,
   "metadata": {},
   "outputs": [],
   "source": [
    "# If local innovation data is available, analyze it by team size\n",
    "if local_innovation_count > 0:\n",
    "    # Filter to entrepreneurs with valid local innovation data\n",
    "    new_ent_with_local_innov = new_entrepreneurs.dropna(subset=['new_entrepreneur_local_innovation']).copy()\n",
    "    \n",
    "    # Analyze local innovation by team size\n",
    "    local_innov_by_team = pd.crosstab(\n",
    "        index=new_ent_with_local_innov['team_size_category'],\n",
    "        columns=new_ent_with_local_innov['new_entrepreneur_local_innovation'],\n",
    "        values=new_ent_with_local_innov['weight'],\n",
    "        aggfunc='sum',\n",
    "        normalize='index'\n",
    "    ) * 100\n",
    "    \n",
    "    local_innov_by_team"
   ]
  },
  {
   "cell_type": "markdown",
   "metadata": {},
   "source": [
    "## 5. Team Size Patterns Across Demographics\n",
    "\n",
    "Let's explore if team composition varies by demographic factors like gender, age, race, education."
   ]
  },
  {
   "cell_type": "code",
   "execution_count": null,
   "metadata": {},
   "outputs": [],
   "source": [
    "# Define demographic variables to analyze\n",
    "demographic_vars = ['gender', 'age_range', 'race', 'education', 'region']\n",
    "\n",
    "# Check completeness of demographic data\n",
    "missing_demo = pd.DataFrame({\n",
    "    'Missing Values': new_entrepreneurs[demographic_vars].isnull().sum(),\n",
    "    'Percentage': 100 * new_entrepreneurs[demographic_vars].isnull().sum() / len(new_entrepreneurs)\n",
    "})\n",
    "missing_demo"
   ]
  },
  {
   "cell_type": "code",
   "execution_count": null,
   "metadata": {},
   "outputs": [],
   "source": [
    "# Filter to entrepreneurs with complete demographic data\n",
    "new_ent_with_demo = new_entrepreneurs.dropna(subset=demographic_vars).copy()\n",
    "print(f\"New entrepreneurs with complete demographic data: {len(new_ent_with_demo)}\")"
   ]
  },
  {
   "cell_type": "code",
   "execution_count": null,
   "metadata": {},
   "outputs": [],
   "source": [
    "# Analyze average team size by gender\n",
    "team_size_by_gender = new_ent_with_demo.groupby('gender').apply(\n",
    "    lambda x: pd.Series({\n",
    "        'Average Team Size': np.average(x['new_entrepreneur_owners'], weights=x['weight']),\n",
    "        'Count': len(x),\n",
    "        'Weighted Count': x['weight'].sum()\n",
    "    })\n",
    ")\n",
    "team_size_by_gender"
   ]
  },
  {
   "cell_type": "code",
   "execution_count": null,
   "metadata": {},
   "outputs": [],
   "source": [
    "# Analyze team size distribution by gender\n",
    "team_dist_by_gender = pd.crosstab(\n",
    "    index=new_ent_with_demo['gender'],\n",
    "    columns=new_ent_with_demo['team_size_category'],\n",
    "    values=new_ent_with_demo['weight'],\n",
    "    aggfunc='sum',\n",
    "    normalize='index'\n",
    ") * 100\n",
    "\n",
    "team_dist_by_gender"
   ]
  },
  {
   "cell_type": "code",
   "execution_count": null,
   "metadata": {},
   "outputs": [],
   "source": [
    "# Visualize team size distribution by gender\n",
    "plt.figure(figsize=(12, 6))\n",
    "team_dist_by_gender.plot(kind='bar', stacked=False)\n",
    "plt.title('Team Size Distribution by Gender (New Entrepreneurs)')\n",
    "plt.xlabel('Gender')\n",
    "plt.ylabel('Percentage (%)')\n",
    "plt.xticks(rotation=0)\n",
    "plt.legend(title='Team Size')\n",
    "plt.tight_layout()\n",
    "plt.show()"
   ]
  },
  {
   "cell_type": "code",
   "execution_count": null,
   "metadata": {},
   "outputs": [],
   "source": [
    "# Analyze average team size by race\n",
    "team_size_by_race = new_ent_with_demo.groupby('race').apply(\n",
    "    lambda x: pd.Series({\n",
    "        'Average Team Size': np.average(x['new_entrepreneur_owners'], weights=x['weight']),\n",
    "        'Count': len(x),\n",
    "        'Weighted Count': x['weight'].sum()\n",
    "    })\n",
    ")\n",
    "team_size_by_race"
   ]
  },
  {
   "cell_type": "code",
   "execution_count": null,
   "metadata": {},
   "outputs": [],
   "source": [
    "# Analyze team size distribution by race\n",
    "team_dist_by_race = pd.crosstab(\n",
    "    index=new_ent_with_demo['race'],\n",
    "    columns=new_ent_with_demo['team_size_category'],\n",
    "    values=new_ent_with_demo['weight'],\n",
    "    aggfunc='sum',\n",
    "    normalize='index'\n",
    ") * 100\n",
    "\n",
    "team_dist_by_race"
   ]
  },
  {
   "cell_type": "code",
   "execution_count": null,
   "metadata": {},
   "outputs": [],
   "source": [
    "# Visualize team size distribution by race\n",
    "plt.figure(figsize=(12, 6))\n",
    "team_dist_by_race.plot(kind='bar', stacked=False)\n",
    "plt.title('Team Size Distribution by Race (New Entrepreneurs)')\n",
    "plt.xlabel('Race')\n",
    "plt.ylabel('Percentage (%)')\n",
    "plt.xticks(rotation=0)\n",
    "plt.legend(title='Team Size')\n",
    "plt.tight_layout()\n",
    "plt.show()"
   ]
  },
  {
   "cell_type": "code",
   "execution_count": null,
   "metadata": {},
   "outputs": [],
   "source": [
    "# Analyze average team size by education level\n",
    "team_size_by_education = new_ent_with_demo.groupby('education').apply(\n",
    "    lambda x: pd.Series({\n",
    "        'Average Team Size': np.average(x['new_entrepreneur_owners'], weights=x['weight']),\n",
    "        'Count': len(x),\n",
    "        'Weighted Count': x['weight'].sum()\n",
    "    })\n",
    ")\n",
    "team_size_by_education"
   ]
  },
  {
   "cell_type": "code",
   "execution_count": null,
   "metadata": {},
   "outputs": [],
   "source": [
    "# Visualize average team size by education level\n",
    "plt.figure(figsize=(14, 7))\n",
    "sns.barplot(x=team_size_by_education.index, y='Average Team Size', data=team_size_by_education)\n",
    "plt.title('Average Team Size by Education Level (New Entrepreneurs)')\n",
    "plt.xlabel('Education Level')\n",
    "plt.ylabel('Average Number of Owners')\n",
    "plt.xticks(rotation=45, ha='right')\n",
    "plt.axhline(y=new_ent_with_demo['new_entrepreneur_owners'].mean(), color='r', linestyle='--', \n",
    "           label=f\"Overall Average: {new_ent_with_demo['new_entrepreneur_owners'].mean():.2f}\")\n",
    "plt.legend()\n",
    "plt.tight_layout()\n",
    "plt.show()"
   ]
  },
  {
   "cell_type": "markdown",
   "metadata": {},
   "source": [
    "## 6. Relationship between Co-founder Dynamics and Business Longevity\n",
    "\n",
    "Let's compare team size patterns between new and established entrepreneurs to understand if certain team compositions are associated with greater business longevity."
   ]
  },
  {
   "cell_type": "code",
   "execution_count": null,
   "metadata": {},
   "outputs": [],
   "source": [
    "# Calculate the ratio of established to new entrepreneurs by team size category\n",
    "# This gives us an indication of which team sizes have better \"survival rates\"\n",
    "\n",
    "# Create a dataset that combines both entrepreneur types\n",
    "new_ent_ratio = pd.DataFrame({\n",
    "    'Type': 'New',\n",
    "    'Count': team_dist_combined[team_dist_combined['Entrepreneur Type'] == 'New']['Percentage'].values,\n",
    "    'Team Size': team_dist_combined[team_dist_combined['Entrepreneur Type'] == 'New']['team_size_category'].values\n",
    "})\n",
    "\n",
    "estab_ent_ratio = pd.DataFrame({\n",
    "    'Type': 'Established',\n",
    "    'Count': team_dist_combined[team_dist_combined['Entrepreneur Type'] == 'Established']['Percentage'].values,\n",
    "    'Team Size': team_dist_combined[team_dist_combined['Entrepreneur Type'] == 'Established']['team_size_category'].values\n",
    "})\n",
    "\n",
    "combined_ratio = pd.concat([new_ent_ratio, estab_ent_ratio])\n",
    "combined_ratio_pivot = combined_ratio.pivot(index='Team Size', columns='Type', values='Count')\n",
    "\n",
    "# Calculate the ratio of established to new\n",
    "combined_ratio_pivot['Established/New Ratio'] = combined_ratio_pivot['Established'] / combined_ratio_pivot['New']\n",
    "combined_ratio_pivot"
   ]
  },
  {
   "cell_type": "code",
   "execution_count": null,
   "metadata": {},
   "outputs": [],
   "source": [
    "# Visualize the established to new ratio by team size\n",
    "plt.figure(figsize=(12, 6))\n",
    "sns.barplot(x=combined_ratio_pivot.index, y='Established/New Ratio', data=combined_ratio_pivot.reset_index())\n",
    "plt.title('Ratio of Established to New Entrepreneurs by Team Size')\n",
    "plt.xlabel('Team Size Category')\n",
    "plt.ylabel('Established/New Ratio')\n",
    "plt.xticks(rotation=0)\n",
    "plt.axhline(y=1, color='r', linestyle='--', label=\"Equal representation\")\n",
    "plt.legend()\n",
    "plt.tight_layout()\n",
    "plt.show()"
   ]
  },
  {
   "cell_type": "markdown",
   "metadata": {},
   "source": [
    "## 7. Comparing Solo Founders to Team-Based Ventures\n",
    "\n",
    "Let's create an overall comparison between solo entrepreneurs and those with co-founders across key metrics."
   ]
  },
  {
   "cell_type": "code",
   "execution_count": null,
   "metadata": {},
   "outputs": [],
   "source": [
    "# Create binary solo vs. team variable\n",
    "new_entrepreneurs['has_cofounders'] = (new_entrepreneurs['new_entrepreneur_owners'] > 1).map({True: 'Team Venture', False: 'Solo Venture'})\n",
    "\n",
    "# Check distribution\n",
    "solo_team_dist = new_entrepreneurs.groupby('has_cofounders')['weight'].sum() / new_entrepreneurs['weight'].sum() * 100\n",
    "solo_team_dist"
   ]
  },
  {
   "cell_type": "code",
   "execution_count": null,
   "metadata": {},
   "outputs": [],
   "source": [
    "# Compare performance metrics between solo and team ventures\n",
    "metrics = ['new_entrepreneur_employees', 'new_entrepreneur_new_jobs']\n",
    "\n",
    "comparison_results = {}\n",
    "\n",
    "for metric in metrics:\n",
    "    # Filter to entrepreneurs with valid data for this metric\n",
    "    valid_data = new_entrepreneurs.dropna(subset=[metric]).copy()\n",
    "    \n",
    "    # Calculate weighted average for solo vs. team\n",
    "    metric_by_type = valid_data.groupby('has_cofounders').apply(\n",
    "        lambda x: pd.Series({\n",
    "            'Average': np.average(x[metric], weights=x['weight']),\n",
    "            'Median': np.median(x[metric]),\n",
    "            'Count': len(x),\n",
    "            'Weighted Count': x['weight'].sum()\n",
    "        })\n",
    "    )\n",
    "    \n",
    "    comparison_results[metric] = metric_by_type\n",
    "\n",
    "# Combine results into a single dataframe\n",
    "solo_vs_team_comparison = pd.DataFrame({\n",
    "    'Avg Employees': comparison_results['new_entrepreneur_employees']['Average'],\n",
    "    'Median Employees': comparison_results['new_entrepreneur_employees']['Median'],\n",
    "    'Avg Projected Jobs': comparison_results['new_entrepreneur_new_jobs']['Average'],\n",
    "    'Median Projected Jobs': comparison_results['new_entrepreneur_new_jobs']['Median'],\n",
    "    'Count': comparison_results['new_entrepreneur_employees']['Count']\n",
    "})\n",
    "\n",
    "solo_vs_team_comparison"
   ]
  },
  {
   "cell_type": "code",
   "execution_count": null,
   "metadata": {},
   "outputs": [],
   "source": [
    "# Visualize performance comparison between solo and team ventures\n",
    "plt.figure(figsize=(14, 8))\n",
    "\n",
    "# Prepare data for plotting\n",
    "plot_data = pd.DataFrame({\n",
    "    'Solo Venture': [solo_vs_team_comparison.loc['Solo Venture', 'Avg Employees'], \n",
    "                     solo_vs_team_comparison.loc['Solo Venture', 'Avg Projected Jobs']],\n",
    "    'Team Venture': [solo_vs_team_comparison.loc['Team Venture', 'Avg Employees'], \n",
    "                    solo_vs_team_comparison.loc['Team Venture', 'Avg Projected Jobs']],\n",
    "    'Metric': ['Current Employees', 'Projected New Jobs (5yr)']\n",
    "})\n",
    "\n",
    "# Reshape for plotting\n",
    "plot_data_melted = plot_data.melt(id_vars='Metric', var_name='Venture Type', value_name='Average')\n",
    "\n",
    "# Create the plot\n",
    "sns.barplot(x='Metric', y='Average', hue='Venture Type', data=plot_data_melted)\n",
    "plt.title('Performance Comparison: Solo vs. Team Ventures')\n",
    "plt.ylabel('Average Number')\n",
    "plt.xlabel('')\n",
    "plt.legend(title='Venture Type')\n",
    "plt.tight_layout()\n",
    "plt.show()"
   ]
  },
  {
   "cell_type": "code",
   "execution_count": null,
   "metadata": {},
   "outputs": [],
   "source": [
    "# Compare market reach between solo and team ventures\n",
    "market_solo_vs_team = pd.crosstab(\n",
    "    index=new_ent_with_sales['has_cofounders'],\n",
    "    columns=new_ent_with_sales['new_entrepreneur_external_sales'],\n",
    "    values=new_ent_with_sales['weight'],\n",
    "    aggfunc='sum',\n",
    "    normalize='index'\n",
    ") * 100\n",
    "\n",
    "market_solo_vs_team"
   ]
  },
  {
   "cell_type": "code",
   "execution_count": null,
   "metadata": {},
   "outputs": [],
   "source": [
    "# Visualize market reach comparison\n",
    "plt.figure(figsize=(12, 7))\n",
    "market_solo_vs_team.plot(kind='bar', stacked=True)\n",
    "plt.title('Market Reach: Solo vs. Team Ventures')\n",
    "plt.xlabel('Venture Type')\n",
    "plt.ylabel('Percentage (%)')\n",
    "plt.xticks(rotation=0)\n",
    "plt.legend(title='External Sales Percentage')\n",
    "plt.tight_layout()\n",
    "plt.show()"
   ]
  },
  {
   "cell_type": "markdown",
   "metadata": {},
   "source": [
    "## Summary of Findings\n",
    "\n",
    "Based on our analysis of co-founder dynamics and team composition, we can summarize the following key findings:\n",
    "\n",
    "1. **Team Size Distribution**:\n",
    "   - The majority of entrepreneurs operate as solo founders\n",
    "   - Team sizes differ between new and established entrepreneurs, with established businesses showing [pattern to be determined from results]\n",
    "   - Most teams consist of 2-3 members, with larger teams being relatively rare\n",
    "\n",
    "2. **Industry Patterns**:\n",
    "   - Certain industries show significantly larger average team sizes, particularly [industries to be determined from results]\n",
    "   - Solo ventures are most common in [industries to be determined from results]\n",
    "   - Team-based approaches are more prevalent in [industries to be determined from results]\n",
    "\n",
    "3. **Performance Differences**:\n",
    "   - Team ventures employ significantly more people than solo ventures\n",
    "   - Team ventures project higher job growth over 5 years\n",
    "   - Teams show different patterns of market reach compared to solo entrepreneurs\n",
    "   - Innovation rates [pattern to be determined from results] between solo and team ventures\n",
    "\n",
    "4. **Demographic Patterns**:\n",
    "   - Team size varies by gender, with [pattern to be determined from results]\n",
    "   - Educational background influences team formation, with higher education associated with [pattern to be determined from results]\n",
    "   - Racial differences in team composition show [pattern to be determined from results]\n",
    "\n",
    "5. **Business Longevity**:\n",
    "   - Certain team sizes show higher ratios of established to new entrepreneurs, suggesting greater survival rates\n",
    "   - [Specific team size categories] appear most sustainable over time\n",
    "   - The transition from new to established business shows [pattern to be determined from results] in team composition\n",
    "\n",
    "These findings provide insights into how co-founder dynamics influence American entrepreneurship and business outcomes."
   ]
  }
 ],
 "metadata": {
  "kernelspec": {
   "display_name": "Python 3",
   "language": "python",
   "name": "python3"
  },
  "language_info": {
   "codemirror_mode": {
    "name": "ipython",
    "version": 3
   },
   "file_extension": ".py",
   "mimetype": "text/x-python",
   "name": "python",
   "nbconvert_exporter": "python",
   "pygments_lexer": "ipython3",
   "version": "3.8.10"
  }
 },
 "nbformat": 4,
 "nbformat_minor": 4
}