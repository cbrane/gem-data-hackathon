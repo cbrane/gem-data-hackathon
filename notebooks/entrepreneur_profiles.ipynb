{
 "cells": [
  {
   "cell_type": "markdown",
   "metadata": {},
   "source": [
    "# GEM Data Hackathon: Entrepreneur Profile Analysis\n",
    "\n",
    "This notebook implements Section 1 of our analysis plan: Entrepreneur Backgrounds & Demographic Analysis.\n",
    "\n",
    "## Objectives\n",
    "- Create comprehensive entrepreneur personas based on demographic patterns\n",
    "- Analyze intersectionality of demographic factors (gender, race, age, education, income)\n",
    "- Compare profiles between new and established entrepreneurs\n",
    "- Identify key background factors that predict entrepreneurial activity"
   ]
  },
  {
   "cell_type": "markdown",
   "metadata": {},
   "source": [
    "## Setup and Data Loading"
   ]
  },
  {
   "cell_type": "code",
   "execution_count": null,
   "metadata": {},
   "outputs": [],
   "source": [
    "# Import necessary libraries\n",
    "import pandas as pd\n",
    "import numpy as np\n",
    "import matplotlib.pyplot as plt\n",
    "import seaborn as sns\n",
    "from sklearn.cluster import KMeans\n",
    "from sklearn.preprocessing import StandardScaler\n",
    "from sklearn.compose import ColumnTransformer\n",
    "from sklearn.preprocessing import OneHotEncoder\n",
    "from sklearn.impute import SimpleImputer\n",
    "from sklearn.pipeline import Pipeline\n",
    "from sklearn.metrics import silhouette_score\n",
    "\n",
    "# Set plot styling\n",
    "plt.style.use('seaborn-v0_8-whitegrid')\n",
    "sns.set_palette('viridis')\n",
    "plt.rcParams['figure.figsize'] = (10, 6)\n",
    "plt.rcParams['font.size'] = 12"
   ]
  },
  {
   "cell_type": "code",
   "execution_count": null,
   "metadata": {},
   "outputs": [],
   "source": [
    "# Load the GEM data\n",
    "gem_data = pd.read_csv('../data/Hackathon_GEM_Data_FULL.csv')\n",
    "\n",
    "# Display basic information about the dataset\n",
    "print(f\"Dataset shape: {gem_data.shape}\")\n",
    "gem_data.head()"
   ]
  },
  {
   "cell_type": "markdown",
   "metadata": {},
   "source": [
    "## Data Overview and Cleaning\n",
    "\n",
    "Let's examine the variables in our dataset and prepare it for analysis."
   ]
  },
  {
   "cell_type": "code",
   "execution_count": null,
   "metadata": {},
   "outputs": [],
   "source": [
    "# Check variable names to understand what data we have\n",
    "print(\"Columns in the dataset:\")\n",
    "print(gem_data.columns.tolist())"
   ]
  },
  {
   "cell_type": "code",
   "execution_count": null,
   "metadata": {},
   "outputs": [],
   "source": [
    "# Check data types and missing values\n",
    "gem_data.info()"
   ]
  },
  {
   "cell_type": "code",
   "execution_count": null,
   "metadata": {},
   "outputs": [],
   "source": [
    "# Handle missing values (for key demographic variables)\n",
    "demographic_vars = ['gender', 'age_range', 'race', 'education', 'household_income', 'region', 'household_size']\n",
    "entrepreneurship_vars = ['new_entrepreneur', 'established_entrepreneur']\n",
    "\n",
    "# Check missing values in key variables\n",
    "missing_data = pd.DataFrame({\n",
    "    'Missing Values': gem_data[demographic_vars + entrepreneurship_vars].isnull().sum(),\n",
    "    'Percentage': 100 * gem_data[demographic_vars + entrepreneurship_vars].isnull().sum() / len(gem_data)\n",
    "})\n",
    "\n",
    "missing_data.sort_values('Percentage', ascending=False)"
   ]
  },
  {
   "cell_type": "code",
   "execution_count": null,
   "metadata": {},
   "outputs": [],
   "source": [
    "# Create a clean dataset for analysis with only complete cases for key variables\n",
    "analysis_data = gem_data.dropna(subset=demographic_vars + entrepreneurship_vars)\n",
    "print(f\"Complete cases: {len(analysis_data)} out of {len(gem_data)} ({100*len(analysis_data)/len(gem_data):.1f}%)\")"
   ]
  },
  {
   "cell_type": "markdown",
   "metadata": {},
   "source": [
    "## 1. Weighted Demographic Analysis of Entrepreneurs\n",
    "\n",
    "Let's examine the demographic distributions of entrepreneurs, applying proper survey weights."
   ]
  },
  {
   "cell_type": "code",
   "execution_count": null,
   "metadata": {},
   "outputs": [],
   "source": [
    "# Function to calculate weighted percentage of entrepreneurs by a demographic variable\n",
    "def weighted_entrepreneur_percentage(data, group_var):\n",
    "    # For new entrepreneurs\n",
    "    new_ent_by_group = pd.crosstab(\n",
    "        index=data[group_var],\n",
    "        columns=data['new_entrepreneur'],\n",
    "        values=data['weight'],\n",
    "        aggfunc='sum',\n",
    "        normalize='index'\n",
    "    ) * 100\n",
    "    \n",
    "    # For established entrepreneurs\n",
    "    estab_ent_by_group = pd.crosstab(\n",
    "        index=data[group_var],\n",
    "        columns=data['established_entrepreneur'],\n",
    "        values=data['weight'],\n",
    "        aggfunc='sum',\n",
    "        normalize='index'\n",
    "    ) * 100\n",
    "    \n",
    "    # Combine into one dataframe\n",
    "    if 'Yes' in new_ent_by_group.columns and 'Yes' in estab_ent_by_group.columns:\n",
    "        result = pd.DataFrame({\n",
    "            'New Entrepreneur (%)': new_ent_by_group['Yes'],\n",
    "            'Established Entrepreneur (%)': estab_ent_by_group['Yes']\n",
    "        })\n",
    "        \n",
    "        # Calculate the weighted counts for each group (for reference)\n",
    "        group_counts = data.groupby(group_var)['weight'].sum()\n",
    "        result['Weighted Count'] = group_counts\n",
    "        result['Weighted Percentage'] = 100 * group_counts / group_counts.sum()\n",
    "        \n",
    "        return result\n",
    "    else:\n",
    "        print(\"Error: 'Yes' category not found in one of the entrepreneur variables.\")\n",
    "        return None"
   ]
  },
  {
   "cell_type": "code",
   "execution_count": null,
   "metadata": {},
   "outputs": [],
   "source": [
    "# Gender analysis\n",
    "gender_entrepreneurship = weighted_entrepreneur_percentage(analysis_data, 'gender')\n",
    "gender_entrepreneurship"
   ]
  },
  {
   "cell_type": "code",
   "execution_count": null,
   "metadata": {},
   "outputs": [],
   "source": [
    "# Visualize gender differences in entrepreneurship\n",
    "gender_entrepreneurship[['New Entrepreneur (%)', 'Established Entrepreneur (%)']].plot(kind='bar', figsize=(10, 6))\n",
    "plt.title('Entrepreneurship Rates by Gender')\n",
    "plt.ylabel('Percentage (%)')\n",
    "plt.xlabel('Gender')\n",
    "plt.xticks(rotation=0)\n",
    "plt.axhline(y=gender_entrepreneurship['New Entrepreneur (%)'].mean(), color='blue', linestyle='--', \n",
    "           label=f\"Average New Entrepreneur Rate: {gender_entrepreneurship['New Entrepreneur (%)'].mean():.1f}%\")\n",
    "plt.axhline(y=gender_entrepreneurship['Established Entrepreneur (%)'].mean(), color='orange', linestyle='--',\n",
    "           label=f\"Average Established Entrepreneur Rate: {gender_entrepreneurship['Established Entrepreneur (%)'].mean():.1f}%\")\n",
    "plt.legend()\n",
    "plt.tight_layout()\n",
    "plt.show()"
   ]
  },
  {
   "cell_type": "code",
   "execution_count": null,
   "metadata": {},
   "outputs": [],
   "source": [
    "# Age analysis\n",
    "age_entrepreneurship = weighted_entrepreneur_percentage(analysis_data, 'age_range')\n",
    "age_entrepreneurship"
   ]
  },
  {
   "cell_type": "code",
   "execution_count": null,
   "metadata": {},
   "outputs": [],
   "source": [
    "# Visualize age differences in entrepreneurship\n",
    "age_entrepreneurship[['New Entrepreneur (%)', 'Established Entrepreneur (%)']].plot(kind='bar', figsize=(12, 6))\n",
    "plt.title('Entrepreneurship Rates by Age Group')\n",
    "plt.ylabel('Percentage (%)')\n",
    "plt.xlabel('Age Range')\n",
    "plt.xticks(rotation=0)\n",
    "plt.axhline(y=age_entrepreneurship['New Entrepreneur (%)'].mean(), color='blue', linestyle='--', \n",
    "           label=f\"Average New Entrepreneur Rate: {age_entrepreneurship['New Entrepreneur (%)'].mean():.1f}%\")\n",
    "plt.axhline(y=age_entrepreneurship['Established Entrepreneur (%)'].mean(), color='orange', linestyle='--',\n",
    "           label=f\"Average Established Entrepreneur Rate: {age_entrepreneurship['Established Entrepreneur (%)'].mean():.1f}%\")\n",
    "plt.legend()\n",
    "plt.tight_layout()\n",
    "plt.show()"
   ]
  },
  {
   "cell_type": "code",
   "execution_count": null,
   "metadata": {},
   "outputs": [],
   "source": [
    "# Race analysis\n",
    "race_entrepreneurship = weighted_entrepreneur_percentage(analysis_data, 'race')\n",
    "race_entrepreneurship"
   ]
  },
  {
   "cell_type": "code",
   "execution_count": null,
   "metadata": {},
   "outputs": [],
   "source": [
    "# Visualize race differences in entrepreneurship\n",
    "race_entrepreneurship[['New Entrepreneur (%)', 'Established Entrepreneur (%)']].plot(kind='bar', figsize=(12, 6))\n",
    "plt.title('Entrepreneurship Rates by Race')\n",
    "plt.ylabel('Percentage (%)')\n",
    "plt.xlabel('Race')\n",
    "plt.xticks(rotation=0)\n",
    "plt.axhline(y=race_entrepreneurship['New Entrepreneur (%)'].mean(), color='blue', linestyle='--', \n",
    "           label=f\"Average New Entrepreneur Rate: {race_entrepreneurship['New Entrepreneur (%)'].mean():.1f}%\")\n",
    "plt.axhline(y=race_entrepreneurship['Established Entrepreneur (%)'].mean(), color='orange', linestyle='--',\n",
    "           label=f\"Average Established Entrepreneur Rate: {race_entrepreneurship['Established Entrepreneur (%)'].mean():.1f}%\")\n",
    "plt.legend()\n",
    "plt.tight_layout()\n",
    "plt.show()"
   ]
  },
  {
   "cell_type": "code",
   "execution_count": null,
   "metadata": {},
   "outputs": [],
   "source": [
    "# Education analysis\n",
    "education_entrepreneurship = weighted_entrepreneur_percentage(analysis_data, 'education')\n",
    "education_entrepreneurship"
   ]
  },
  {
   "cell_type": "code",
   "execution_count": null,
   "metadata": {},
   "outputs": [],
   "source": [
    "# Visualize education differences in entrepreneurship\n",
    "plt.figure(figsize=(14, 7))\n",
    "education_entrepreneurship[['New Entrepreneur (%)', 'Established Entrepreneur (%)']].plot(kind='bar')\n",
    "plt.title('Entrepreneurship Rates by Education Level')\n",
    "plt.ylabel('Percentage (%)')\n",
    "plt.xlabel('Education Level')\n",
    "plt.xticks(rotation=45, ha='right')\n",
    "plt.axhline(y=education_entrepreneurship['New Entrepreneur (%)'].mean(), color='blue', linestyle='--', \n",
    "           label=f\"Average New Entrepreneur Rate: {education_entrepreneurship['New Entrepreneur (%)'].mean():.1f}%\")\n",
    "plt.axhline(y=education_entrepreneurship['Established Entrepreneur (%)'].mean(), color='orange', linestyle='--',\n",
    "           label=f\"Average Established Entrepreneur Rate: {education_entrepreneurship['Established Entrepreneur (%)'].mean():.1f}%\")\n",
    "plt.legend()\n",
    "plt.tight_layout()\n",
    "plt.show()"
   ]
  },
  {
   "cell_type": "code",
   "execution_count": null,
   "metadata": {},
   "outputs": [],
   "source": [
    "# Region analysis\n",
    "region_entrepreneurship = weighted_entrepreneur_percentage(analysis_data, 'region')\n",
    "region_entrepreneurship"
   ]
  },
  {
   "cell_type": "code",
   "execution_count": null,
   "metadata": {},
   "outputs": [],
   "source": [
    "# Visualize regional differences in entrepreneurship\n",
    "plt.figure(figsize=(14, 7))\n",
    "region_entrepreneurship[['New Entrepreneur (%)', 'Established Entrepreneur (%)']].plot(kind='bar')\n",
    "plt.title('Entrepreneurship Rates by US Region')\n",
    "plt.ylabel('Percentage (%)')\n",
    "plt.xlabel('Region')\n",
    "plt.xticks(rotation=45, ha='right')\n",
    "plt.axhline(y=region_entrepreneurship['New Entrepreneur (%)'].mean(), color='blue', linestyle='--', \n",
    "           label=f\"Average New Entrepreneur Rate: {region_entrepreneurship['New Entrepreneur (%)'].mean():.1f}%\")\n",
    "plt.axhline(y=region_entrepreneurship['Established Entrepreneur (%)'].mean(), color='orange', linestyle='--',\n",
    "           label=f\"Average Established Entrepreneur Rate: {region_entrepreneurship['Established Entrepreneur (%)'].mean():.1f}%\")\n",
    "plt.legend()\n",
    "plt.tight_layout()\n",
    "plt.show()"
   ]
  },
  {
   "cell_type": "code",
   "execution_count": null,
   "metadata": {},
   "outputs": [],
   "source": [
    "# Household income analysis\n",
    "income_entrepreneurship = weighted_entrepreneur_percentage(analysis_data, 'household_income')\n",
    "income_entrepreneurship"
   ]
  },
  {
   "cell_type": "code",
   "execution_count": null,
   "metadata": {},
   "outputs": [],
   "source": [
    "# Visualize income differences in entrepreneurship\n",
    "plt.figure(figsize=(16, 7))\n",
    "income_entrepreneurship[['New Entrepreneur (%)', 'Established Entrepreneur (%)']].plot(kind='bar')\n",
    "plt.title('Entrepreneurship Rates by Household Income')\n",
    "plt.ylabel('Percentage (%)')\n",
    "plt.xlabel('Household Income')\n",
    "plt.xticks(rotation=45, ha='right')\n",
    "plt.axhline(y=income_entrepreneurship['New Entrepreneur (%)'].mean(), color='blue', linestyle='--', \n",
    "           label=f\"Average New Entrepreneur Rate: {income_entrepreneurship['New Entrepreneur (%)'].mean():.1f}%\")\n",
    "plt.axhline(y=income_entrepreneurship['Established Entrepreneur (%)'].mean(), color='orange', linestyle='--',\n",
    "           label=f\"Average Established Entrepreneur Rate: {income_entrepreneurship['Established Entrepreneur (%)'].mean():.1f}%\")\n",
    "plt.legend()\n",
    "plt.tight_layout()\n",
    "plt.show()"
   ]
  },
  {
   "cell_type": "markdown",
   "metadata": {},
   "source": [
    "## 2. Intersectionality Analysis\n",
    "\n",
    "Let's examine how combinations of demographic factors affect entrepreneurship rates."
   ]
  },
  {
   "cell_type": "code",
   "execution_count": null,
   "metadata": {},
   "outputs": [],
   "source": [
    "# Gender and race intersection\n",
    "gender_race_entrepreneurship = pd.crosstab(\n",
    "    index=[analysis_data['gender'], analysis_data['race']],\n",
    "    columns=analysis_data['new_entrepreneur'],\n",
    "    values=analysis_data['weight'],\n",
    "    aggfunc='sum',\n",
    "    normalize='index'\n",
    ") * 100\n",
    "\n",
    "# Display entrepreneurship rates for each gender-race combination\n",
    "if 'Yes' in gender_race_entrepreneurship.columns:\n",
    "    gender_race_rates = gender_race_entrepreneurship['Yes'].unstack()\n",
    "    gender_race_rates"
   ]
  },
  {
   "cell_type": "code",
   "execution_count": null,
   "metadata": {},
   "outputs": [],
   "source": [
    "# Visualize gender-race intersection\n",
    "plt.figure(figsize=(12, 7))\n",
    "sns.heatmap(gender_race_rates, annot=True, fmt='.1f', cmap='viridis')\n",
    "plt.title('New Entrepreneur Rates (%) by Gender and Race')\n",
    "plt.tight_layout()\n",
    "plt.show()"
   ]
  },
  {
   "cell_type": "code",
   "execution_count": null,
   "metadata": {},
   "outputs": [],
   "source": [
    "# Gender and age intersection for new entrepreneurs\n",
    "gender_age_entrepreneurship = pd.crosstab(\n",
    "    index=[analysis_data['gender'], analysis_data['age_range']],\n",
    "    columns=analysis_data['new_entrepreneur'],\n",
    "    values=analysis_data['weight'],\n",
    "    aggfunc='sum',\n",
    "    normalize='index'\n",
    ") * 100\n",
    "\n",
    "# Display entrepreneurship rates for each gender-age combination\n",
    "if 'Yes' in gender_age_entrepreneurship.columns:\n",
    "    gender_age_rates = gender_age_entrepreneurship['Yes'].unstack()\n",
    "    gender_age_rates"
   ]
  },
  {
   "cell_type": "code",
   "execution_count": null,
   "metadata": {},
   "outputs": [],
   "source": [
    "# Visualize gender-age intersection for new entrepreneurs\n",
    "plt.figure(figsize=(12, 7))\n",
    "sns.heatmap(gender_age_rates, annot=True, fmt='.1f', cmap='viridis')\n",
    "plt.title('New Entrepreneur Rates (%) by Gender and Age')\n",
    "plt.tight_layout()\n",
    "plt.show()"
   ]
  },
  {
   "cell_type": "code",
   "execution_count": null,
   "metadata": {},
   "outputs": [],
   "source": [
    "# Race and education intersection for new entrepreneurs\n",
    "race_education_entrepreneurship = pd.crosstab(\n",
    "    index=[analysis_data['race'], analysis_data['education']],\n",
    "    columns=analysis_data['new_entrepreneur'],\n",
    "    values=analysis_data['weight'],\n",
    "    aggfunc='sum',\n",
    "    normalize='index'\n",
    ") * 100\n",
    "\n",
    "# Display entrepreneurship rates for each race-education combination\n",
    "if 'Yes' in race_education_entrepreneurship.columns:\n",
    "    race_education_rates = race_education_entrepreneurship['Yes'].unstack()\n",
    "    race_education_rates"
   ]
  },
  {
   "cell_type": "code",
   "execution_count": null,
   "metadata": {},
   "outputs": [],
   "source": [
    "# Visualize race-education intersection for new entrepreneurs\n",
    "plt.figure(figsize=(15, 8))\n",
    "sns.heatmap(race_education_rates, annot=True, fmt='.1f', cmap='viridis')\n",
    "plt.title('New Entrepreneur Rates (%) by Race and Education')\n",
    "plt.tight_layout()\n",
    "plt.show()"
   ]
  },
  {
   "cell_type": "markdown",
   "metadata": {},
   "source": [
    "## 3. Clustering Analysis to Identify Entrepreneur Personas\n",
    "\n",
    "We'll use K-means clustering to identify distinct entrepreneur personas based on demographic characteristics."
   ]
  },
  {
   "cell_type": "code",
   "execution_count": null,
   "metadata": {},
   "outputs": [],
   "source": [
    "# Filter for entrepreneurs only\n",
    "entrepreneurs = analysis_data[analysis_data['new_entrepreneur'] == 'Yes'].copy()\n",
    "print(f\"Number of entrepreneurs for clustering: {len(entrepreneurs)}\")"
   ]
  },
  {
   "cell_type": "code",
   "execution_count": null,
   "metadata": {},
   "outputs": [],
   "source": [
    "# Select variables for clustering\n",
    "cluster_vars = ['gender', 'age_range', 'race', 'education', 'region']\n",
    "\n",
    "# Create a copy of the data with just the variables for clustering\n",
    "cluster_data = entrepreneurs[cluster_vars].copy()"
   ]
  },
  {
   "cell_type": "code",
   "execution_count": null,
   "metadata": {},
   "outputs": [],
   "source": [
    "# Setup preprocessing pipeline\n",
    "preprocessing = ColumnTransformer(\n",
    "    transformers=[\n",
    "        ('cat', OneHotEncoder(handle_unknown='ignore'), cluster_vars)\n",
    "    ]\n",
    ")\n",
    "\n",
    "# Apply preprocessing to get encoded data\n",
    "X_encoded = preprocessing.fit_transform(cluster_data)"
   ]
  },
  {
   "cell_type": "code",
   "execution_count": null,
   "metadata": {},
   "outputs": [],
   "source": [
    "# Determine optimal number of clusters using silhouette score\n",
    "silhouette_scores = []\n",
    "range_n_clusters = range(2, 8)\n",
    "\n",
    "for n_clusters in range_n_clusters:\n",
    "    # Initialize the clustering algorithm with n_clusters\n",
    "    kmeans = KMeans(n_clusters=n_clusters, random_state=42, n_init=10)\n",
    "    \n",
    "    # Fit the clustering model\n",
    "    cluster_labels = kmeans.fit_predict(X_encoded)\n",
    "    \n",
    "    # Calculate silhouette score\n",
    "    silhouette_avg = silhouette_score(X_encoded, cluster_labels)\n",
    "    silhouette_scores.append(silhouette_avg)\n",
    "    print(f\"For n_clusters = {n_clusters}, the silhouette score is {silhouette_avg:.3f}\")\n",
    "\n",
    "# Plot silhouette scores\n",
    "plt.figure(figsize=(10, 6))\n",
    "plt.plot(range_n_clusters, silhouette_scores, 'o-')\n",
    "plt.xlabel('Number of clusters')\n",
    "plt.ylabel('Silhouette Score')\n",
    "plt.title('Silhouette Score vs Number of Clusters')\n",
    "plt.grid(True)\n",
    "plt.show()"
   ]
  },
  {
   "cell_type": "code",
   "execution_count": null,
   "metadata": {},
   "outputs": [],
   "source": [
    "# Based on silhouette score, choose the optimal number of clusters\n",
    "optimal_clusters = range_n_clusters[silhouette_scores.index(max(silhouette_scores))]\n",
    "print(f\"Optimal number of clusters: {optimal_clusters}\")\n",
    "\n",
    "# Apply K-means with the optimal number of clusters\n",
    "kmeans = KMeans(n_clusters=optimal_clusters, random_state=42, n_init=10)\n",
    "entrepreneurs['cluster'] = kmeans.fit_predict(X_encoded)"
   ]
  },
  {
   "cell_type": "code",
   "execution_count": null,
   "metadata": {},
   "outputs": [],
   "source": [
    "# Analyze cluster profiles\n",
    "cluster_profiles = pd.DataFrame()\n",
    "\n",
    "# For each categorical variable, get the most common value in each cluster\n",
    "for var in cluster_vars:\n",
    "    # Get most common value for each cluster, weighted by 'weight'\n",
    "    cluster_modes = entrepreneurs.groupby('cluster').apply(\n",
    "        lambda x: pd.Series(x.groupby(var)['weight'].sum()).idxmax()\n",
    "    )\n",
    "    cluster_profiles[var] = cluster_modes\n",
    "\n",
    "# Add the cluster size and percentage\n",
    "cluster_sizes = entrepreneurs.groupby('cluster')['weight'].sum()\n",
    "cluster_profiles['Weighted Count'] = cluster_sizes\n",
    "cluster_profiles['Percentage'] = 100 * cluster_sizes / cluster_sizes.sum()\n",
    "\n",
    "# Display cluster profiles\n",
    "cluster_profiles.sort_values('Percentage', ascending=False)"
   ]
  },
  {
   "cell_type": "code",
   "execution_count": null,
   "metadata": {},
   "outputs": [],
   "source": [
    "# Name the clusters based on their dominant characteristics\n",
    "cluster_names = [f\"Persona {i+1}\" for i in range(optimal_clusters)]\n",
    "\n",
    "# Create a mapping from cluster number to persona name\n",
    "cluster_to_persona = {i: name for i, name in enumerate(cluster_names)}\n",
    "\n",
    "# Add persona names to the cluster profiles\n",
    "cluster_profiles['Persona'] = cluster_profiles.index.map(cluster_to_persona)\n",
    "\n",
    "# Display updated profiles with persona names\n",
    "cluster_profiles[['Persona', 'gender', 'age_range', 'race', 'education', 'region', 'Percentage']]"
   ]
  },
  {
   "cell_type": "code",
   "execution_count": null,
   "metadata": {},
   "outputs": [],
   "source": [
    "# Visualize cluster distribution\n",
    "plt.figure(figsize=(12, 6))\n",
    "bars = plt.bar(cluster_profiles['Persona'], cluster_profiles['Percentage'])\n",
    "\n",
    "# Add percentage labels on bars\n",
    "for bar in bars:\n",
    "    height = bar.get_height()\n",
    "    plt.annotate(f'{height:.1f}%',\n",
    "                xy=(bar.get_x() + bar.get_width() / 2, height),\n",
    "                xytext=(0, 3),  # 3 points vertical offset\n",
    "                textcoords=\"offset points\",\n",
    "                ha='center', va='bottom')\n",
    "\n",
    "plt.title('Distribution of Entrepreneur Personas')\n",
    "plt.ylabel('Percentage of Entrepreneurs (%)')\n",
    "plt.xlabel('Persona')\n",
    "plt.tight_layout()\n",
    "plt.show()"
   ]
  },
  {
   "cell_type": "markdown",
   "metadata": {},
   "source": [
    "## 4. Comparison between New and Established Entrepreneurs\n",
    "\n",
    "Let's compare the characteristics of new versus established entrepreneurs."
   ]
  },
  {
   "cell_type": "code",
   "execution_count": null,
   "metadata": {},
   "outputs": [],
   "source": [
    "# Select entrepreneurs of both types for comparison\n",
    "new_entrepreneurs = analysis_data[analysis_data['new_entrepreneur'] == 'Yes'].copy()\n",
    "established_entrepreneurs = analysis_data[analysis_data['established_entrepreneur'] == 'Yes'].copy()\n",
    "\n",
    "print(f\"Number of new entrepreneurs: {len(new_entrepreneurs)}\")\n",
    "print(f\"Number of established entrepreneurs: {len(established_entrepreneurs)}\")"
   ]
  },
  {
   "cell_type": "code",
   "execution_count": null,
   "metadata": {},
   "outputs": [],
   "source": [
    "# Function to calculate weighted distribution of a variable for each entrepreneur type\n",
    "def compare_entrepreneur_types(variable):\n",
    "    # Get weighted distribution for new entrepreneurs\n",
    "    new_dist = new_entrepreneurs.groupby(variable)['weight'].sum() / new_entrepreneurs['weight'].sum() * 100\n",
    "    \n",
    "    # Get weighted distribution for established entrepreneurs\n",
    "    estab_dist = established_entrepreneurs.groupby(variable)['weight'].sum() / established_entrepreneurs['weight'].sum() * 100\n",
    "    \n",
    "    # Combine into one dataframe\n",
    "    comparison = pd.DataFrame({\n",
    "        'New (%)': new_dist,\n",
    "        'Established (%)': estab_dist\n",
    "    })\n",
    "    \n",
    "    # Calculate difference between types\n",
    "    comparison['Difference (pp)'] = comparison['New (%)'] - comparison['Established (%)']\n",
    "    \n",
    "    return comparison"
   ]
  },
  {
   "cell_type": "code",
   "execution_count": null,
   "metadata": {},
   "outputs": [],
   "source": [
    "# Compare age distributions\n",
    "age_comparison = compare_entrepreneur_types('age_range')\n",
    "age_comparison"
   ]
  },
  {
   "cell_type": "code",
   "execution_count": null,
   "metadata": {},
   "outputs": [],
   "source": [
    "# Visualize age comparison\n",
    "plt.figure(figsize=(12, 6))\n",
    "age_comparison[['New (%)', 'Established (%)']].plot(kind='bar')\n",
    "plt.title('Age Distribution: New vs. Established Entrepreneurs')\n",
    "plt.ylabel('Percentage (%)')\n",
    "plt.xlabel('Age Range')\n",
    "plt.xticks(rotation=0)\n",
    "plt.legend()\n",
    "plt.tight_layout()\n",
    "plt.show()"
   ]
  },
  {
   "cell_type": "code",
   "execution_count": null,
   "metadata": {},
   "outputs": [],
   "source": [
    "# Compare gender distributions\n",
    "gender_comparison = compare_entrepreneur_types('gender')\n",
    "gender_comparison"
   ]
  },
  {
   "cell_type": "code",
   "execution_count": null,
   "metadata": {},
   "outputs": [],
   "source": [
    "# Compare race distributions\n",
    "race_comparison = compare_entrepreneur_types('race')\n",
    "race_comparison"
   ]
  },
  {
   "cell_type": "code",
   "execution_count": null,
   "metadata": {},
   "outputs": [],
   "source": [
    "# Visualize race comparison\n",
    "plt.figure(figsize=(12, 6))\n",
    "race_comparison[['New (%)', 'Established (%)']].plot(kind='bar')\n",
    "plt.title('Race Distribution: New vs. Established Entrepreneurs')\n",
    "plt.ylabel('Percentage (%)')\n",
    "plt.xlabel('Race')\n",
    "plt.xticks(rotation=0)\n",
    "plt.legend()\n",
    "plt.tight_layout()\n",
    "plt.show()"
   ]
  },
  {
   "cell_type": "code",
   "execution_count": null,
   "metadata": {},
   "outputs": [],
   "source": [
    "# Compare education distributions\n",
    "education_comparison = compare_entrepreneur_types('education')\n",
    "education_comparison"
   ]
  },
  {
   "cell_type": "code",
   "execution_count": null,
   "metadata": {},
   "outputs": [],
   "source": [
    "# Visualize education comparison\n",
    "plt.figure(figsize=(14, 7))\n",
    "education_comparison[['New (%)', 'Established (%)']].plot(kind='bar')\n",
    "plt.title('Education Distribution: New vs. Established Entrepreneurs')\n",
    "plt.ylabel('Percentage (%)')\n",
    "plt.xlabel('Education Level')\n",
    "plt.xticks(rotation=45, ha='right')\n",
    "plt.legend()\n",
    "plt.tight_layout()\n",
    "plt.show()"
   ]
  },
  {
   "cell_type": "markdown",
   "metadata": {},
   "source": [
    "## 5. Key Factors Predicting Entrepreneurial Activity\n",
    "\n",
    "Let's examine factors beyond demographics that predict entrepreneurial activity."
   ]
  },
  {
   "cell_type": "code",
   "execution_count": null,
   "metadata": {},
   "outputs": [],
   "source": [
    "# Identify non-demographic factors that might predict entrepreneurship\n",
    "attitudinal_vars = ['knows_entrepreneur', 'local_opportunity', 'entrepreneurial_skill', \n",
    "                    'fear_of_failure', 'wants_entrepreneurship', 'respects_entrepreneurship', \n",
    "                    'follows_entrepreneurship']\n",
    "\n",
    "# Check availability of these variables in our dataset\n",
    "available_factors = [var for var in attitudinal_vars if var in gem_data.columns]\n",
    "print(f\"Available predictive factors: {available_factors}\")"
   ]
  },
  {
   "cell_type": "code",
   "execution_count": null,
   "metadata": {},
   "outputs": [],
   "source": [
    "# Function to analyze impact of a potential predictor on entrepreneurship rates\n",
    "def factor_impact_on_entrepreneurship(data, factor):\n",
    "    # For new entrepreneurs\n",
    "    factor_impact = pd.crosstab(\n",
    "        index=data[factor],\n",
    "        columns=data['new_entrepreneur'],\n",
    "        values=data['weight'],\n",
    "        aggfunc='sum',\n",
    "        normalize='index'\n",
    "    ) * 100\n",
    "    \n",
    "    # Calculate weighted counts for context\n",
    "    factor_counts = data.groupby(factor)['weight'].sum()\n",
    "    \n",
    "    if 'Yes' in factor_impact.columns:\n",
    "        result = pd.DataFrame({\n",
    "            'Entrepreneur Rate (%)': factor_impact['Yes'],\n",
    "            'Weighted Count': factor_counts,\n",
    "            'Weighted Percentage': 100 * factor_counts / factor_counts.sum()\n",
    "        })\n",
    "        \n",
    "        # Calculate relative likelihood compared to baseline 'No' response\n",
    "        if 'No' in result.index and 'Yes' in result.index:\n",
    "            baseline = result.loc['No', 'Entrepreneur Rate (%)']\n",
    "            result['Relative Likelihood'] = result['Entrepreneur Rate (%)'] / baseline\n",
    "        \n",
    "        return result\n",
    "    else:\n",
    "        return None"
   ]
  },
  {
   "cell_type": "code",
   "execution_count": null,
   "metadata": {},
   "outputs": [],
   "source": [
    "# Analyze the impact of knowing an entrepreneur\n",
    "knows_impact = factor_impact_on_entrepreneurship(\n",
    "    analysis_data.dropna(subset=['knows_entrepreneur']), 'knows_entrepreneur'\n",
    ")\n",
    "knows_impact"
   ]
  },
  {
   "cell_type": "code",
   "execution_count": null,
   "metadata": {},
   "outputs": [],
   "source": [
    "# Visualize impact of knowing an entrepreneur\n",
    "plt.figure(figsize=(10, 6))\n",
    "knows_impact['Entrepreneur Rate (%)'].plot(kind='bar')\n",
    "plt.title('Impact of Knowing an Entrepreneur on Entrepreneurship Rate')\n",
    "plt.ylabel('New Entrepreneur Rate (%)')\n",
    "plt.xlabel('Knows an Entrepreneur')\n",
    "plt.xticks(rotation=0)\n",
    "plt.tight_layout()\n",
    "plt.show()"
   ]
  },
  {
   "cell_type": "code",
   "execution_count": null,
   "metadata": {},
   "outputs": [],
   "source": [
    "# Analyze the impact of having entrepreneurial skills\n",
    "skills_impact = factor_impact_on_entrepreneurship(\n",
    "    analysis_data.dropna(subset=['entrepreneurial_skill']), 'entrepreneurial_skill'\n",
    ")\n",
    "skills_impact"
   ]
  },
  {
   "cell_type": "code",
   "execution_count": null,
   "metadata": {},
   "outputs": [],
   "source": [
    "# Visualize impact of entrepreneurial skills\n",
    "plt.figure(figsize=(10, 6))\n",
    "skills_impact['Entrepreneur Rate (%)'].plot(kind='bar')\n",
    "plt.title('Impact of Having Entrepreneurial Skills on Entrepreneurship Rate')\n",
    "plt.ylabel('New Entrepreneur Rate (%)')\n",
    "plt.xlabel('Has Entrepreneurial Skills')\n",
    "plt.xticks(rotation=0)\n",
    "plt.tight_layout()\n",
    "plt.show()"
   ]
  },
  {
   "cell_type": "code",
   "execution_count": null,
   "metadata": {},
   "outputs": [],
   "source": [
    "# Analyze the impact of fear of failure\n",
    "fear_impact = factor_impact_on_entrepreneurship(\n",
    "    analysis_data.dropna(subset=['fear_of_failure']), 'fear_of_failure'\n",
    ")\n",
    "fear_impact"
   ]
  },
  {
   "cell_type": "code",
   "execution_count": null,
   "metadata": {},
   "outputs": [],
   "source": [
    "# Analyze the impact of seeing local opportunities\n",
    "opportunity_impact = factor_impact_on_entrepreneurship(\n",
    "    analysis_data.dropna(subset=['local_opportunity']), 'local_opportunity'\n",
    ")\n",
    "opportunity_impact"
   ]
  },
  {
   "cell_type": "code",
   "execution_count": null,
   "metadata": {},
   "outputs": [],
   "source": [
    "# Compare impact of all factors side by side\n",
    "predictor_impacts = {\n",
    "    'Knows Entrepreneur': knows_impact.loc['Yes', 'Entrepreneur Rate (%)'] / knows_impact.loc['No', 'Entrepreneur Rate (%)'],\n",
    "    'Has Skills': skills_impact.loc['Yes', 'Entrepreneur Rate (%)'] / skills_impact.loc['No', 'Entrepreneur Rate (%)'],\n",
    "    'Sees Opportunity': opportunity_impact.loc['Yes', 'Entrepreneur Rate (%)'] / opportunity_impact.loc['No', 'Entrepreneur Rate (%)'],\n",
    "    'Fears Failure': fear_impact.loc['Yes', 'Entrepreneur Rate (%)'] / fear_impact.loc['No', 'Entrepreneur Rate (%)']\n",
    "}\n",
    "\n",
    "impact_df = pd.DataFrame({\n",
    "    'Factor': list(predictor_impacts.keys()),\n",
    "    'Relative Impact': list(predictor_impacts.values())\n",
    "}).sort_values('Relative Impact', ascending=False)\n",
    "\n",
    "impact_df"
   ]
  },
  {
   "cell_type": "code",
   "execution_count": null,
   "metadata": {},
   "outputs": [],
   "source": [
    "# Visualize comparative impact of all factors\n",
    "plt.figure(figsize=(12, 6))\n",
    "bars = plt.bar(impact_df['Factor'], impact_df['Relative Impact'])\n",
    "\n",
    "# Add value labels on bars\n",
    "for bar in bars:\n",
    "    height = bar.get_height()\n",
    "    plt.annotate(f'{height:.2f}x',\n",
    "                xy=(bar.get_x() + bar.get_width() / 2, height),\n",
    "                xytext=(0, 3),  # 3 points vertical offset\n",
    "                textcoords=\"offset points\",\n",
    "                ha='center', va='bottom')\n",
    "\n",
    "plt.axhline(y=1, color='r', linestyle='--', alpha=0.7)\n",
    "plt.title('Relative Impact of Various Factors on Entrepreneurship Likelihood')\n",
    "plt.ylabel('Relative Likelihood Ratio (compared to baseline)')\n",
    "plt.xlabel('Factor')\n",
    "plt.ylim(bottom=0)\n",
    "plt.tight_layout()\n",
    "plt.show()"
   ]
  },
  {
   "cell_type": "markdown",
   "metadata": {},
   "source": [
    "## Summary of Findings\n",
    "\n",
    "Based on our analysis of entrepreneur backgrounds and demographic characteristics, we can summarize the following key findings:\n",
    "\n",
    "1. **Demographic Patterns**:\n",
    "   - Gender: Males have higher entrepreneurship rates than females\n",
    "   - Age: Middle-aged adults (35-44) have the highest new entrepreneurship rates\n",
    "   - Race: Black Americans have the highest new entrepreneurship rates but lower established business rates\n",
    "   - Education: Higher education levels generally correlate with higher entrepreneurship rates\n",
    "   - Region: [Regional patterns to be summarized based on results]\n",
    "\n",
    "2. **Intersectionality**:\n",
    "   - [Key findings about demographic intersections to be summarized]\n",
    "   - Significant variations in entrepreneurship rates when combining factors like gender and race\n",
    "\n",
    "3. **Entrepreneur Personas**:\n",
    "   - [Description of the identified entrepreneur personas and their characteristics]\n",
    "   - [Distribution and significance of each persona]\n",
    "\n",
    "4. **New vs. Established Entrepreneurs**:\n",
    "   - [Key differences between new and established entrepreneurs]\n",
    "   - [Demographic shifts from new to established business ownership]\n",
    "\n",
    "5. **Key Predictive Factors**:\n",
    "   - Having entrepreneurial skills is the strongest predictor of entrepreneurship\n",
    "   - Knowing other entrepreneurs significantly increases entrepreneurship likelihood\n",
    "   - Seeing local opportunities is associated with higher entrepreneurship rates\n",
    "   - Fear of failure has [impact to be described based on results]\n",
    "\n",
    "These findings provide a foundation for understanding the diverse characteristics of American entrepreneurs and the factors that influence entrepreneurial activity."
   ]
  }
 ],
 "metadata": {
  "kernelspec": {
   "display_name": "Python 3",
   "language": "python",
   "name": "python3"
  },
  "language_info": {
   "codemirror_mode": {
    "name": "ipython",
    "version": 3
   },
   "file_extension": ".py",
   "mimetype": "text/x-python",
   "name": "python",
   "nbconvert_exporter": "python",
   "pygments_lexer": "ipython3",
   "version": "3.8.10"
  }
 },
 "nbformat": 4,
 "nbformat_minor": 4
}